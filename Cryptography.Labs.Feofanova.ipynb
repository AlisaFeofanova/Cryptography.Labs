{
 "cells": [
  {
   "cell_type": "markdown",
   "metadata": {},
   "source": [
    "# Лабороторна робота №1\n",
    "\n",
    "## 1. Побудуйте гістограму частот появи літер в тексті."
   ]
  },
  {
   "cell_type": "code",
   "execution_count": 6,
   "metadata": {},
   "outputs": [
    {
     "data": {
      "image/png": "[encoded data removed]",
      "text/plain": [
       "<Figure size 432x288 with 1 Axes>"
      ]
     },
     "metadata": {
      "needs_background": "light"
     },
     "output_type": "display_data"
    }
   ],
   "source": [
    "import re\n",
    "import matplotlib.pyplot as plt\n",
    "import numpy as np\n",
    "import matplotlib.pyplot as plt\n",
    "\n",
    "dict = {\"а\":0, \"б\":0, \"в\":0, \"г\":0, \"д\":0, \"е\":0, \"ё\":0, \"ж\":0, \"з\":0, \"и\":0, \"й\":0, \"к\":0, \"л\":0, \"м\":0, \"н\":0, \"о\":0, \"п\":0, \"р\":0, \"с\":0, \"т\":0, \"у\":0, \"ф\":0, \"х\":0, \"ц\":0, \"ч\":0, \"ш\":0, \"щ\":0, \"ъ\":0,\"ы\":0, \"ь\":0, \"э\":0, \"ю\":0, \"я\":0}\n",
    "with open(\"fight_club.txt\", 'r') as fc:\n",
    "    lines = fc.readlines()\n",
    "    text = \"\".join(lines)\n",
    "text = text.lower()\n",
    "for key in dict:\n",
    "    for a in re.finditer(key, text, re.DOTALL):\n",
    "        dict[key] += 1\n",
    "\n",
    "ax = plt.axes()\n",
    "ax.set_xticks(np.arange(len(dict.keys())))\n",
    "ax.set_xticklabels(dict.keys())\n",
    "\n",
    "plt.bar(dict.keys(), dict.values(),width=0.9)\n",
    "plt.show()"
   ]
  },
  {
   "cell_type": "markdown",
   "metadata": {},
   "source": [
    "## 2. Релізуйте алгоритм шифрування Віженера. "
   ]
  },
  {
   "cell_type": "code",
   "execution_count": 7,
   "metadata": {},
   "outputs": [
    {
     "name": "stdout",
     "output_type": "stream",
     "text": [
      "Plaintext: весна красна колись прийде\n",
      "Keyword: зима\n",
      "Ciphertext:  інґнзфгаьчмкчхцсєщгитлу\n"
     ]
    }
   ],
   "source": [
    "num0 = {\"a\":0, \"b\":1, \"c\":2, \"d\":3, \"e\":4, \"f\":5, \"g\":6, \"h\":7, \"i\":8, \"j\":9, \"k\":10, \"l\":11, \"m\":12, \"n\":13, \"o\":14, \"p\":15, \"q\":16, \"r\":17, \"s\":18, \"t\":19, \"u\":20, \"v\":21, \"w\":22, \"x\":23, \"y\":24, \"z\":25}\n",
    "num = {\"а\":0, \"б\":1, \"в\":2, \"г\":3, \"ґ\":4, \"д\":5, \"є\":6, \"е\":7, \"ж\":8, \"з\":9, \"и\":10, \"і\":11, \"ї\":12, \"й\":13, \"к\":14, \"л\":15, \"м\":16, \"н\":17, \"о\":18, \"п\":19, \"р\":20, \"с\":21, \"т\":22, \"у\":23, \"ф\":24, \"х\":25, \"ц\":26, \"ч\":27, \"ш\":28, \"щ\":29, \"ь\":30, \"ю\":31, \"я\":32}\n",
    "Pt = input(\"Plaintext: \")\n",
    "Key = input(\"Keyword: \")\n",
    "Pt = re.sub(r' ', '', Pt)\n",
    "Pt = Pt.lower()\n",
    "Key = Key.lower()\n",
    "\n",
    "pt, keyword = list(Pt), list(Key)\n",
    "longkeyword = []\n",
    "enc = []\n",
    "j = 0;\n",
    "for i in range(len(keyword)):\n",
    "    for key in num:\n",
    "        if(keyword[i] == key):\n",
    "            keyword[i] = num[key]\n",
    "for i in range(len(pt)):\n",
    "    longkeyword.append(0)\n",
    "    enc.append(0)\n",
    "    if(j < len(keyword)):\n",
    "        longkeyword[i] = keyword[j]\n",
    "        j += 1\n",
    "    else:\n",
    "        j = 0\n",
    "        longkeyword[i] = keyword[j]\n",
    "        j += 1\n",
    "    for key in num:\n",
    "        if(pt[i] == key):\n",
    "            pt[i] = num[key]\n",
    "    if(pt[i]+longkeyword[i] < len(num)): \n",
    "        enc[i] = pt[i]+longkeyword[i]\n",
    "    else:\n",
    "        enc[i] = pt[i]+longkeyword[i] - len(num)        \n",
    "    for key in num:\n",
    "        if(enc[i] == num[key]):\n",
    "            enc[i] = key\n",
    "print(\"Ciphertext: \", ''.join(enc))\n",
    "# весна красна колись прийде\n",
    "# зима"
   ]
  },
  {
   "cell_type": "markdown",
   "metadata": {},
   "source": [
    "## 3. Проведіть криптоаналіз шифру Віженера і розшифруйте запропонований криптотекст "
   ]
  },
  {
   "cell_type": "code",
   "execution_count": 8,
   "metadata": {},
   "outputs": [
    {
     "name": "stdout",
     "output_type": "stream",
     "text": [
      "Ciphertext: ьччжпчьишисаеяйпявааьяч\n",
      "Keyword: зима\n",
      "Plaintext:  сніжинкипадаютьпухнасті\n"
     ]
    }
   ],
   "source": [
    "Ct = input(\"Ciphertext: \")\n",
    "Key = input(\"Keyword: \")\n",
    "Ct = re.sub(r' ', '', Ct)\n",
    "Ct = Ct.lower()\n",
    "Key = Key.lower()\n",
    "\n",
    "ct, keyword = list(Ct), list(Key)\n",
    "longkeyword = []\n",
    "dec = []\n",
    "j = 0;\n",
    "for i in range(len(keyword)):\n",
    "    for key in num:\n",
    "        if(keyword[i] == key):\n",
    "            keyword[i] = num[key]\n",
    "for i in range(len(ct)):\n",
    "    longkeyword.append(0)\n",
    "    dec.append(0)\n",
    "    if(j < len(keyword)):\n",
    "        longkeyword[i] = keyword[j]\n",
    "        j += 1\n",
    "    else:\n",
    "        j = 0\n",
    "        longkeyword[i] = keyword[j]\n",
    "        j += 1\n",
    "    for key in num:\n",
    "        if(ct[i] == key):\n",
    "            ct[i] = num[key]\n",
    "    if(ct[i]-longkeyword[i] < 0): \n",
    "        dec[i] = ct[i] + len(num) - longkeyword[i]\n",
    "    else:\n",
    "        dec[i] = ct[i]-longkeyword[i]      \n",
    "    for key in num:\n",
    "        if(dec[i] == num[key]):\n",
    "            dec[i] = key\n",
    "print(\"Plaintext: \", ''.join(dec))\n",
    "# ьччжпчьишисаеяйпявааьяч\n",
    "# зима"
   ]
  },
  {
   "cell_type": "markdown",
   "metadata": {},
   "source": [
    "# Лабороторна робота №2\n",
    "\n",
    "## 1. Реалiзуйте криптосистему AES-128, включаючи алгоритми утворення раундових ключiв, шифрування i дешифрування."
   ]
  },
  {
   "cell_type": "markdown",
   "metadata": {},
   "source": [
    "AES - 128:\n",
    "\n",
    "\n",
    "Довжина блоку - 128 біт. \n",
    "\n",
    "\n",
    "Довжина ключа - 128 біт. \n",
    "\n",
    "\n",
    "Кількість раундів - 10. \n",
    "\n",
    "\n",
    "Складаеться з чотирьох перетворень SubButes(), SubRows(), MixColumns() та AddRoundKey(). AddRoundKey() використовує попередньо визначений масив KeySchedule, що складається з 11 блоків(ключів) "
   ]
  },
  {
   "cell_type": "markdown",
   "metadata": {},
   "source": [
    "## SubButes()\n",
    "\n",
    "\n",
    "(ENC). Перетворення представляє собою заміну кажного байта із State на відповідний йому із константної таблиці sbox.\n",
    "\n",
    "\n",
    "(DEC). Працює так само, як і SubBytes(), за виключенням того, що заміни здійснюються із константної таблиці inv_sbox. "
   ]
  },
  {
   "cell_type": "code",
   "execution_count": 9,
   "metadata": {},
   "outputs": [],
   "source": [
    "sbox = [\n",
    "    0x63, 0x7c, 0x77, 0x7b, 0xf2, 0x6b, 0x6f, 0xc5, 0x30, 0x01, 0x67, 0x2b, 0xfe, 0xd7, 0xab, 0x76,\n",
    "    0xca, 0x82, 0xc9, 0x7d, 0xfa, 0x59, 0x47, 0xf0, 0xad, 0xd4, 0xa2, 0xaf, 0x9c, 0xa4, 0x72, 0xc0,\n",
    "    0xb7, 0xfd, 0x93, 0x26, 0x36, 0x3f, 0xf7, 0xcc, 0x34, 0xa5, 0xe5, 0xf1, 0x71, 0xd8, 0x31, 0x15,\n",
    "    0x04, 0xc7, 0x23, 0xc3, 0x18, 0x96, 0x05, 0x9a, 0x07, 0x12, 0x80, 0xe2, 0xeb, 0x27, 0xb2, 0x75,\n",
    "    0x09, 0x83, 0x2c, 0x1a, 0x1b, 0x6e, 0x5a, 0xa0, 0x52, 0x3b, 0xd6, 0xb3, 0x29, 0xe3, 0x2f, 0x84,\n",
    "    0x53, 0xd1, 0x00, 0xed, 0x20, 0xfc, 0xb1, 0x5b, 0x6a, 0xcb, 0xbe, 0x39, 0x4a, 0x4c, 0x58, 0xcf,\n",
    "    0xd0, 0xef, 0xaa, 0xfb, 0x43, 0x4d, 0x33, 0x85, 0x45, 0xf9, 0x02, 0x7f, 0x50, 0x3c, 0x9f, 0xa8,\n",
    "    0x51, 0xa3, 0x40, 0x8f, 0x92, 0x9d, 0x38, 0xf5, 0xbc, 0xb6, 0xda, 0x21, 0x10, 0xff, 0xf3, 0xd2,\n",
    "    0xcd, 0x0c, 0x13, 0xec, 0x5f, 0x97, 0x44, 0x17, 0xc4, 0xa7, 0x7e, 0x3d, 0x64, 0x5d, 0x19, 0x73,\n",
    "    0x60, 0x81, 0x4f, 0xdc, 0x22, 0x2a, 0x90, 0x88, 0x46, 0xee, 0xb8, 0x14, 0xde, 0x5e, 0x0b, 0xdb,\n",
    "    0xe0, 0x32, 0x3a, 0x0a, 0x49, 0x06, 0x24, 0x5c, 0xc2, 0xd3, 0xac, 0x62, 0x91, 0x95, 0xe4, 0x79,\n",
    "    0xe7, 0xc8, 0x37, 0x6d, 0x8d, 0xd5, 0x4e, 0xa9, 0x6c, 0x56, 0xf4, 0xea, 0x65, 0x7a, 0xae, 0x08,\n",
    "    0xba, 0x78, 0x25, 0x2e, 0x1c, 0xa6, 0xb4, 0xc6, 0xe8, 0xdd, 0x74, 0x1f, 0x4b, 0xbd, 0x8b, 0x8a,\n",
    "    0x70, 0x3e, 0xb5, 0x66, 0x48, 0x03, 0xf6, 0x0e, 0x61, 0x35, 0x57, 0xb9, 0x86, 0xc1, 0x1d, 0x9e,\n",
    "    0xe1, 0xf8, 0x98, 0x11, 0x69, 0xd9, 0x8e, 0x94, 0x9b, 0x1e, 0x87, 0xe9, 0xce, 0x55, 0x28, 0xdf,\n",
    "    0x8c, 0xa1, 0x89, 0x0d, 0xbf, 0xe6, 0x42, 0x68, 0x41, 0x99, 0x2d, 0x0f, 0xb0, 0x54, 0xbb, 0x16\n",
    "]\n",
    "\n",
    "inv_sbox = [\n",
    "    0x52, 0x09, 0x6a, 0xd5, 0x30, 0x36, 0xa5, 0x38, 0xbf, 0x40, 0xa3, 0x9e, 0x81, 0xf3, 0xd7, 0xfb,\n",
    "    0x7c, 0xe3, 0x39, 0x82, 0x9b, 0x2f, 0xff, 0x87, 0x34, 0x8e, 0x43, 0x44, 0xc4, 0xde, 0xe9, 0xcb,\n",
    "    0x54, 0x7b, 0x94, 0x32, 0xa6, 0xc2, 0x23, 0x3d, 0xee, 0x4c, 0x95, 0x0b, 0x42, 0xfa, 0xc3, 0x4e,\n",
    "    0x08, 0x2e, 0xa1, 0x66, 0x28, 0xd9, 0x24, 0xb2, 0x76, 0x5b, 0xa2, 0x49, 0x6d, 0x8b, 0xd1, 0x25,\n",
    "    0x72, 0xf8, 0xf6, 0x64, 0x86, 0x68, 0x98, 0x16, 0xd4, 0xa4, 0x5c, 0xcc, 0x5d, 0x65, 0xb6, 0x92,\n",
    "    0x6c, 0x70, 0x48, 0x50, 0xfd, 0xed, 0xb9, 0xda, 0x5e, 0x15, 0x46, 0x57, 0xa7, 0x8d, 0x9d, 0x84,\n",
    "    0x90, 0xd8, 0xab, 0x00, 0x8c, 0xbc, 0xd3, 0x0a, 0xf7, 0xe4, 0x58, 0x05, 0xb8, 0xb3, 0x45, 0x06,\n",
    "    0xd0, 0x2c, 0x1e, 0x8f, 0xca, 0x3f, 0x0f, 0x02, 0xc1, 0xaf, 0xbd, 0x03, 0x01, 0x13, 0x8a, 0x6b,\n",
    "    0x3a, 0x91, 0x11, 0x41, 0x4f, 0x67, 0xdc, 0xea, 0x97, 0xf2, 0xcf, 0xce, 0xf0, 0xb4, 0xe6, 0x73,\n",
    "    0x96, 0xac, 0x74, 0x22, 0xe7, 0xad, 0x35, 0x85, 0xe2, 0xf9, 0x37, 0xe8, 0x1c, 0x75, 0xdf, 0x6e,\n",
    "    0x47, 0xf1, 0x1a, 0x71, 0x1d, 0x29, 0xc5, 0x89, 0x6f, 0xb7, 0x62, 0x0e, 0xaa, 0x18, 0xbe, 0x1b,\n",
    "    0xfc, 0x56, 0x3e, 0x4b, 0xc6, 0xd2, 0x79, 0x20, 0x9a, 0xdb, 0xc0, 0xfe, 0x78, 0xcd, 0x5a, 0xf4,\n",
    "    0x1f, 0xdd, 0xa8, 0x33, 0x88, 0x07, 0xc7, 0x31, 0xb1, 0x12, 0x10, 0x59, 0x27, 0x80, 0xec, 0x5f,\n",
    "    0x60, 0x51, 0x7f, 0xa9, 0x19, 0xb5, 0x4a, 0x0d, 0x2d, 0xe5, 0x7a, 0x9f, 0x93, 0xc9, 0x9c, 0xef,\n",
    "    0xa0, 0xe0, 0x3b, 0x4d, 0xae, 0x2a, 0xf5, 0xb0, 0xc8, 0xeb, 0xbb, 0x3c, 0x83, 0x53, 0x99, 0x61,\n",
    "    0x17, 0x2b, 0x04, 0x7e, 0xba, 0x77, 0xd6, 0x26, 0xe1, 0x69, 0x14, 0x63, 0x55, 0x21, 0x0c, 0x7d\n",
    "]"
   ]
  },
  {
   "cell_type": "code",
   "execution_count": 10,
   "metadata": {},
   "outputs": [],
   "source": [
    "def SubBytes(state, inv=False):\n",
    "    if inv == False: # Enc\n",
    "        box = sbox\n",
    "    else:   # Dec\n",
    "        box = inv_sbox\n",
    "    \n",
    "    for i in range(len(state)):\n",
    "        for j in range(len(state[i])):\n",
    "            \n",
    "            row = state[i][j] // 0x10\n",
    "            col = state[i][j] % 0x10\n",
    "            \n",
    "            box_el = box[16*row + col]\n",
    "            state[i][j] = box_el\n",
    "    return state"
   ]
  },
  {
   "cell_type": "markdown",
   "metadata": {},
   "source": [
    "## SubRows()\n",
    "\n",
    "\n",
    "(ENC). Виконує циклічний зсув вліво на 1 елемент для першого рядка, на 2 для другого і на 3 для третього. Нульовий рядок не зсувається. \n",
    "\n",
    "(DEC). Виконує циклічний зсув вправо на 1 елемент для першого рядка, на 2 для другого і на 3 для третього. Нульовий рядок не зсувається. \n",
    "\n",
    "\n",
    "$(ENC)\\begin{bmatrix}\n",
    "s_{00} & s_{01}  & s_{02} & s_{03}\\\\\n",
    "s_{10} & s_{11} & s_{12} & s_{13}\\\\\n",
    "s_{20} & s_{21} & s_{22} & s_{23}\\\\\n",
    "s_{30} & s_{31} & s_{32} & s_{33}\\\\\n",
    "\\end{bmatrix}$\n",
    "$\\to$\n",
    "$\\begin{bmatrix}\n",
    "s_{00} & s_{01}  & s_{02} & s_{03}\\\\\n",
    "s_{11} & s_{12} & s_{13} & s_{10}\\\\\n",
    "s_{22} & s_{23} & s_{20} & s_{21}\\\\\n",
    "s_{33} & s_{30} & s_{31} & s_{32}\\\\\n",
    "\\end{bmatrix}$\n",
    "$               $\n",
    "$(DEC)\\begin{bmatrix}\n",
    "s_{00} & s_{01}  & s_{02} & s_{03}\\\\\n",
    "s_{10} & s_{11} & s_{12} & s_{13}\\\\\n",
    "s_{20} & s_{21} & s_{22} & s_{23}\\\\\n",
    "s_{30} & s_{31} & s_{32} & s_{33}\\\\\n",
    "\\end{bmatrix}$\n",
    "$\\to$\n",
    "$\\begin{bmatrix}\n",
    "s_{00} & s_{01}  & s_{02} & s_{03}\\\\\n",
    "s_{13} & s_{10} & s_{11} & s_{12}\\\\\n",
    "s_{22} & s_{23} & s_{20} & s_{21}\\\\\n",
    "s_{31} & s_{32} & s_{33} & s_{30}\\\\\n",
    "\\end{bmatrix}$"
   ]
  },
  {
   "cell_type": "code",
   "execution_count": 11,
   "metadata": {},
   "outputs": [],
   "source": [
    "def ShiftRows(state, inv=False):\n",
    "    count = 1\n",
    "    if inv == False: # Enc\n",
    "        for i in range(1, 4):\n",
    "            state[i] =  totheLEFT(state[i], count)\n",
    "            count += 1\n",
    "    else: # Dec\n",
    "        for i in range(1, 4):\n",
    "            state[i] =  totheRIGHT(state[i], count)\n",
    "            count += 1\n",
    "    return state\n",
    "\n",
    "def totheLEFT(arr, count):\n",
    "    res = arr[:]\n",
    "    for i in range(count):\n",
    "        tmp = res[1:]\n",
    "        tmp.append(res[0])\n",
    "        res[:] = tmp[:]\n",
    "    return res\n",
    "\n",
    "def totheRIGHT(arr, count):\n",
    "    res = arr[:]\n",
    "    for i in range(count):\n",
    "        tmp = res[:-1]\n",
    "        tmp.insert(0, res[-1])\n",
    "        res[:] = tmp[:]\n",
    "    return res"
   ]
  },
  {
   "cell_type": "markdown",
   "metadata": {},
   "source": [
    "## MixColumns()\n",
    "\n",
    "\n",
    "(ENC). Кожна колонка в State подається у вигляді многочлена і перемножується в полі $GF(2^8)$ по модулю $x^4+ 1$ з фіксованим многочленом $3x^3 + x^2 + x + 2$. \n",
    "\n",
    "\n",
    "$\\begin{bmatrix}\n",
    "s_{0c}^\\prime\\\\\n",
    "s_{1c}^\\prime\\\\\n",
    "s_{2c}^\\prime\\\\\n",
    "s_{3c}^\\prime\\\\\n",
    "\\end{bmatrix}$\n",
    "$=$\n",
    "$\\begin{bmatrix}\n",
    "02&03&01&01\\\\\n",
    "01&02&03&01\\\\\n",
    "01&01&02&03\\\\\n",
    "03&01&01&02\n",
    "\\end{bmatrix}$\n",
    "$\\begin{bmatrix}\n",
    "s_{0c}\\\\\n",
    "s_{1c}\\\\\n",
    "s_{2c}\\\\\n",
    "s_{3c}\\\\\n",
    "\\end{bmatrix}$\n",
    "\n",
    "\n",
    "(DEC). Операції ті самі, але кажна колонка State множиться з іншим многочленом $\\{0b\\}x^3 + \\{0d\\}x^2 + \\{09\\}x + \\{0e\\}$. \n",
    "\n",
    "\n",
    "$\\begin{bmatrix}\n",
    "s_{0c}^\\prime\\\\\n",
    "s_{1c}^\\prime\\\\\n",
    "s_{2c}^\\prime\\\\\n",
    "s_{3c}^\\prime\\\\\n",
    "\\end{bmatrix}$\n",
    "$=$\n",
    "$\\begin{bmatrix}\n",
    "0e&0b&0d&09\\\\\n",
    "09&0e&0b&0d\\\\\n",
    "0d&09&0e&0b\\\\\n",
    "0b&0d&09&0e\n",
    "\\end{bmatrix}$\n",
    "$\\begin{bmatrix}\n",
    "s_{0c}\\\\\n",
    "s_{1c}\\\\\n",
    "s_{2c}\\\\\n",
    "s_{3c}\\\\\n",
    "\\end{bmatrix}$\n",
    "\n",
    "\n",
    "$\\bullet$ Додавання в полі $GF(2^8)$ эквивалентноеквівалентне операции XOR.\n",
    "\n",
    "\n",
    "$\\bullet$ Множення на {01} не змінює множник.\n",
    "\n",
    "\n",
    "$\\bullet$ Множення на {02} відбувається за правилом: якщо множник меньше {80}, він зсувається вліво на 1 біт. Якщо множник більше або рівний {80}, він зпочатку зсувається вліво на 1 біт, а потім до результату зсуву застосовується операція XOR з значенням {1b}. Результат може перескочити за значение {ff}, тобто за границі одного байта. В такому випадку потрібно повернути остачу від ділення результату на {100}.\n",
    "\n",
    "\n",
    "$\\bullet$ Множення на інші константи можна виразити через попередні. \n",
    "\n"
   ]
  },
  {
   "cell_type": "code",
   "execution_count": 12,
   "metadata": {},
   "outputs": [],
   "source": [
    "def MixColumns(state, inv=False):\n",
    "    for i in range(4):\n",
    "        if inv == False: # Enc\n",
    "            s0 = mul02(state[0][i]) ^ mul03(state[1][i]) ^ state[2][i]        ^ state[3][i]\n",
    "            s1 = state[0][i]        ^ mul02(state[1][i]) ^ mul03(state[2][i]) ^ state[3][i]\n",
    "            s2 = state[0][i]        ^ state[1][i]        ^ mul02(state[2][i]) ^ mul03(state[3][i])\n",
    "            s3 = mul03(state[0][i]) ^ state[1][i]        ^ state[2][i]        ^ mul02(state[3][i])\n",
    "        else: # Dec\n",
    "            s0 = mul0e(state[0][i]) ^ mul0b(state[1][i]) ^ mul0d(state[2][i]) ^ mul09(state[3][i])\n",
    "            s1 = mul09(state[0][i]) ^ mul0e(state[1][i]) ^ mul0b(state[2][i]) ^ mul0d(state[3][i])\n",
    "            s2 = mul0d(state[0][i]) ^ mul09(state[1][i]) ^ mul0e(state[2][i]) ^ mul0b(state[3][i])\n",
    "            s3 = mul0b(state[0][i]) ^ mul0d(state[1][i]) ^ mul09(state[2][i]) ^ mul0e(state[3][i])\n",
    "\n",
    "        state[0][i] = s0\n",
    "        state[1][i] = s1\n",
    "        state[2][i] = s2\n",
    "        state[3][i] = s3\n",
    "    return state\n",
    "\n",
    "def mul02(num):\n",
    "    if num < 0x80:\n",
    "        res = (num << 1)\n",
    "    else:\n",
    "        res = (num << 1) ^ 0x1b\n",
    "    return res % 0x100\n",
    "\n",
    "def mul03(num):\n",
    "    return (mul02(num) ^ num)\n",
    "\n",
    "def mul09(num):\n",
    "    return mul02(mul02(mul02(num))) ^ num\n",
    "\n",
    "def mul0b(num):\n",
    "    return mul02(mul02(mul02(num))) ^ mul02(num) ^ num\n",
    "\n",
    "def mul0d(num):\n",
    "    return mul02(mul02(mul02(num))) ^ mul02(mul02(num)) ^ num\n",
    "\n",
    "def mul0e(num):\n",
    "    return mul02(mul02(mul02(num))) ^ mul02(mul02(num)) ^ mul02(num)"
   ]
  },
  {
   "cell_type": "markdown",
   "metadata": {},
   "source": [
    "## AddRoundKey()\n",
    "\n",
    "\n",
    "Обчислює побітовий XOR State з раундовим ключем із KeySchedule.\n",
    "\n",
    "\n",
    "#### KeyExpansion()\n",
    "\n",
    "\n",
    "Формує набір раундових ключів — KeySchedule. KeySchedule представляє собою таблицу, що складається з 4*11 столбців або 11 блоков, кажний із яких рівний розміру State. Перший раундовий ключ заповнюється на основі секретного ключа.\n",
    "\n",
    "\n"
   ]
  },
  {
   "cell_type": "code",
   "execution_count": 13,
   "metadata": {},
   "outputs": [],
   "source": [
    "rcon = [[0x01, 0x02, 0x04, 0x08, 0x10, 0x20, 0x40, 0x80, 0x1b, 0x36],\n",
    "        [0x00, 0x00, 0x00, 0x00, 0x00, 0x00, 0x00, 0x00, 0x00, 0x00],\n",
    "        [0x00, 0x00, 0x00, 0x00, 0x00, 0x00, 0x00, 0x00, 0x00, 0x00],\n",
    "        [0x00, 0x00, 0x00, 0x00, 0x00, 0x00, 0x00, 0x00, 0x00, 0x00]\n",
    "]\n",
    "\n",
    "def AddRoundKey(state, KeySchedule, round=0):\n",
    "        \n",
    "    for i in range(4):\n",
    "        s0 = state[0][i] ^ KeySchedule[0][4*round + i]\n",
    "        s1 = state[1][i] ^ KeySchedule[1][4*round + i]\n",
    "        s2 = state[2][i] ^ KeySchedule[2][4*round + i]\n",
    "        s3 = state[3][i] ^ KeySchedule[3][4*round + i]\n",
    "\n",
    "        state[0][i] = s0\n",
    "        state[1][i] = s1\n",
    "        state[2][i] = s2\n",
    "        state[3][i] = s3\n",
    "    return state\n",
    "\n",
    "def KeyExpansion(key):\n",
    "    tm = [0x00 for i in range(16)] \n",
    "    KeySymbols = list(key)\n",
    "    for i in range(len(KeySymbols)):\n",
    "        tm[i] = hex(int(text_to_bits(KeySymbols[i]),2))\n",
    "    KeySymbols = tm\n",
    "\n",
    "    KeySchedule = [[] for i in range(4)]     \n",
    "    for i in range(4):\n",
    "        for j in range(4):\n",
    "            KeySchedule[i].append(KeySymbols[i + 4*j])\n",
    "    \n",
    "            \n",
    "    for col in range(4, 4 * 11): \n",
    "        if col % 4 == 0:\n",
    "            #<< 1\n",
    "            tmp = [KeySchedule[row][col-1] for row in range(1, 4)]\n",
    "            tmp.append(KeySchedule[0][col-1])\n",
    "            #Sbox\n",
    "            for j in range(len(tmp)):        \n",
    "                sbox_row = tmp[j] // 0x10\n",
    "                sbox_col = tmp[j] % 0x10\n",
    "                sbox_el =  sbox[16*sbox_row + sbox_col]\n",
    "                tmp[j] = sbox_el\n",
    "            #XOR\n",
    "            for row in range(4):\n",
    "                s = KeySchedule[row][col - 4] ^ tmp[row] ^ rcon[row][col//4 - 1]\n",
    "                KeySchedule[row].append(s)\n",
    "\n",
    "        else:\n",
    "            for row in range(4):\n",
    "                s = KeySchedule[row][col - 4] ^ KeySchedule[row][col - 1]\n",
    "                KeySchedule[row].append(s)\n",
    "\n",
    "    return KeySchedule"
   ]
  },
  {
   "cell_type": "markdown",
   "metadata": {},
   "source": [
    "![ENC](/Users/feofanova.alisa/Desktop/enc.jpg)\n",
    "\n",
    "\n",
    "\n",
    "Процес розшифровування відбуваеться у зворотньому порядку. "
   ]
  },
  {
   "cell_type": "code",
   "execution_count": 14,
   "metadata": {},
   "outputs": [],
   "source": [
    "def Enc(state, key):       \n",
    "    KeySchedule = KeyExpansion(key)\n",
    "    \n",
    "    state = AddRoundKey(state, KeySchedule)\n",
    "\n",
    "    for round in range(1, 10):\n",
    "        state = SubBytes(state)\n",
    "        state = ShiftRows(state)\n",
    "        state = MixColumns(state)\n",
    "        state = AddRoundKey(state, KeySchedule, round)\n",
    "\n",
    "    state = SubBytes(state)\n",
    "    state = ShiftRows(state)\n",
    "    state = AddRoundKey(state, KeySchedule, 10)\n",
    "\n",
    "    return Output(state)\n",
    "\n",
    "def Dec(state, key):\n",
    "    KeySchedule = KeyExpansion(key)\n",
    "    \n",
    "    state = AddRoundKey(state, KeySchedule, 10)\n",
    "\n",
    "    round = 9\n",
    "    while round >= 1:\n",
    "        state = ShiftRows(state, inv=True)\n",
    "        state = SubBytes(state, inv=True)\n",
    "        state = AddRoundKey(state, KeySchedule, round)\n",
    "        state = MixColumns(state, inv=True)\n",
    "        round -= 1\n",
    "\n",
    "    state = ShiftRows(state, inv=True)\n",
    "    state = SubBytes(state, inv=True)\n",
    "    state = AddRoundKey(state, KeySchedule)\n",
    "\n",
    "    return Output(state)\n"
   ]
  },
  {
   "cell_type": "code",
   "execution_count": 15,
   "metadata": {},
   "outputs": [
    {
     "name": "stdout",
     "output_type": "stream",
     "text": [
      "message: hello world\n",
      "key: aes128\n"
     ]
    },
    {
     "ename": "TypeError",
     "evalue": "unsupported operand type(s) for ^: 'str' and 'int'",
     "output_type": "error",
     "traceback": [
      "\u001b[0;31m---------------------------------------------------------------------------\u001b[0m",
      "\u001b[0;31mTypeError\u001b[0m                                 Traceback (most recent call last)",
      "\u001b[0;32m<ipython-input-15-e5ead429c700>\u001b[0m in \u001b[0;36m<module>\u001b[0;34m\u001b[0m\n\u001b[1;32m     39\u001b[0m \u001b[0;34m\u001b[0m\u001b[0m\n\u001b[1;32m     40\u001b[0m \u001b[0;34m\u001b[0m\u001b[0m\n\u001b[0;32m---> 41\u001b[0;31m \u001b[0mcipher\u001b[0m \u001b[0;34m=\u001b[0m \u001b[0mEnc\u001b[0m\u001b[0;34m(\u001b[0m\u001b[0mInitialization\u001b[0m\u001b[0;34m(\u001b[0m\u001b[0mmessage\u001b[0m\u001b[0;34m)\u001b[0m\u001b[0;34m,\u001b[0m\u001b[0mkey\u001b[0m\u001b[0;34m)\u001b[0m\u001b[0;34m\u001b[0m\u001b[0;34m\u001b[0m\u001b[0m\n\u001b[0m\u001b[1;32m     42\u001b[0m \u001b[0;34m\u001b[0m\u001b[0m\n\u001b[1;32m     43\u001b[0m \u001b[0mtext\u001b[0m \u001b[0;34m=\u001b[0m \u001b[0mDec\u001b[0m\u001b[0;34m(\u001b[0m\u001b[0mInitialization\u001b[0m\u001b[0;34m(\u001b[0m\u001b[0mcipher\u001b[0m\u001b[0;34m)\u001b[0m\u001b[0;34m,\u001b[0m \u001b[0mkey\u001b[0m\u001b[0;34m)\u001b[0m\u001b[0;34m\u001b[0m\u001b[0;34m\u001b[0m\u001b[0m\n",
      "\u001b[0;32m<ipython-input-14-514fe34d9b6d>\u001b[0m in \u001b[0;36mEnc\u001b[0;34m(state, key)\u001b[0m\n\u001b[1;32m      1\u001b[0m \u001b[0;32mdef\u001b[0m \u001b[0mEnc\u001b[0m\u001b[0;34m(\u001b[0m\u001b[0mstate\u001b[0m\u001b[0;34m,\u001b[0m \u001b[0mkey\u001b[0m\u001b[0;34m)\u001b[0m\u001b[0;34m:\u001b[0m\u001b[0;34m\u001b[0m\u001b[0;34m\u001b[0m\u001b[0m\n\u001b[0;32m----> 2\u001b[0;31m     \u001b[0mKeySchedule\u001b[0m \u001b[0;34m=\u001b[0m \u001b[0mKeyExpansion\u001b[0m\u001b[0;34m(\u001b[0m\u001b[0mkey\u001b[0m\u001b[0;34m)\u001b[0m\u001b[0;34m\u001b[0m\u001b[0;34m\u001b[0m\u001b[0m\n\u001b[0m\u001b[1;32m      3\u001b[0m \u001b[0;34m\u001b[0m\u001b[0m\n\u001b[1;32m      4\u001b[0m     \u001b[0mstate\u001b[0m \u001b[0;34m=\u001b[0m \u001b[0mAddRoundKey\u001b[0m\u001b[0;34m(\u001b[0m\u001b[0mstate\u001b[0m\u001b[0;34m,\u001b[0m \u001b[0mKeySchedule\u001b[0m\u001b[0;34m)\u001b[0m\u001b[0;34m\u001b[0m\u001b[0;34m\u001b[0m\u001b[0m\n\u001b[1;32m      5\u001b[0m \u001b[0;34m\u001b[0m\u001b[0m\n",
      "\u001b[0;32m<ipython-input-13-b36c23b75416>\u001b[0m in \u001b[0;36mKeyExpansion\u001b[0;34m(key)\u001b[0m\n\u001b[1;32m     45\u001b[0m             \u001b[0;31m#XOR\u001b[0m\u001b[0;34m\u001b[0m\u001b[0;34m\u001b[0m\u001b[0;34m\u001b[0m\u001b[0m\n\u001b[1;32m     46\u001b[0m             \u001b[0;32mfor\u001b[0m \u001b[0mrow\u001b[0m \u001b[0;32min\u001b[0m \u001b[0mrange\u001b[0m\u001b[0;34m(\u001b[0m\u001b[0;36m4\u001b[0m\u001b[0;34m)\u001b[0m\u001b[0;34m:\u001b[0m\u001b[0;34m\u001b[0m\u001b[0;34m\u001b[0m\u001b[0m\n\u001b[0;32m---> 47\u001b[0;31m                 \u001b[0ms\u001b[0m \u001b[0;34m=\u001b[0m \u001b[0mKeySchedule\u001b[0m\u001b[0;34m[\u001b[0m\u001b[0mrow\u001b[0m\u001b[0;34m]\u001b[0m\u001b[0;34m[\u001b[0m\u001b[0mcol\u001b[0m \u001b[0;34m-\u001b[0m \u001b[0;36m4\u001b[0m\u001b[0;34m]\u001b[0m \u001b[0;34m^\u001b[0m \u001b[0mtmp\u001b[0m\u001b[0;34m[\u001b[0m\u001b[0mrow\u001b[0m\u001b[0;34m]\u001b[0m \u001b[0;34m^\u001b[0m \u001b[0mrcon\u001b[0m\u001b[0;34m[\u001b[0m\u001b[0mrow\u001b[0m\u001b[0;34m]\u001b[0m\u001b[0;34m[\u001b[0m\u001b[0mcol\u001b[0m\u001b[0;34m//\u001b[0m\u001b[0;36m4\u001b[0m \u001b[0;34m-\u001b[0m \u001b[0;36m1\u001b[0m\u001b[0;34m]\u001b[0m\u001b[0;34m\u001b[0m\u001b[0;34m\u001b[0m\u001b[0m\n\u001b[0m\u001b[1;32m     48\u001b[0m                 \u001b[0mKeySchedule\u001b[0m\u001b[0;34m[\u001b[0m\u001b[0mrow\u001b[0m\u001b[0;34m]\u001b[0m\u001b[0;34m.\u001b[0m\u001b[0mappend\u001b[0m\u001b[0;34m(\u001b[0m\u001b[0ms\u001b[0m\u001b[0;34m)\u001b[0m\u001b[0;34m\u001b[0m\u001b[0;34m\u001b[0m\u001b[0m\n\u001b[1;32m     49\u001b[0m \u001b[0;34m\u001b[0m\u001b[0m\n",
      "\u001b[0;31mTypeError\u001b[0m: unsupported operand type(s) for ^: 'str' and 'int'"
     ]
    }
   ],
   "source": [
    "hex_to_int = {'a': 10, 'b': 11, 'c': 12, 'd': 13, 'e': 14, 'f': 15}\n",
    "\n",
    "def text_to_bits(text, encoding='utf-8', errors='surrogatepass'):\n",
    "    bits = bin(int.from_bytes(text.encode(encoding, errors), 'big'))[2:]\n",
    "    return bits.zfill(8 * ((len(bits) + 7) // 8))\n",
    "\n",
    "def text_from_bits(bits, encoding='utf-8', errors='surrogatepass'):\n",
    "    n = int(bits, 2)\n",
    "    return n.to_bytes((n.bit_length() + 7) // 8, 'big').decode(encoding, errors) or '\\0'   \n",
    "\n",
    "def Initialization(text):\n",
    "    tm = [0x00 for i in range(16)] \n",
    "    input_bytes = list(text)\n",
    "    for i in range(len(input_bytes)):\n",
    "        tm[i] = int(text_to_bits(input_bytes[i]),2)\n",
    "    input_bytes = tm\n",
    "\n",
    "    state = [[] for j in range(4)]\n",
    "    for i in range(4):\n",
    "        for j in range(4):\n",
    "            state[i].append(input_bytes[i + 4*j])   \n",
    "    return state\n",
    "\n",
    "def Output(state):\n",
    "    output = [None for i in range(16)]\n",
    "    text = ''\n",
    "    for i in range(4):\n",
    "        for j in range(4):\n",
    "            output[i + 4*j] = state[i][j]\n",
    "    for i in range(len(output)):\n",
    "        text += chr(output[i])\n",
    "    return text\n",
    "\n",
    "\n",
    "message = input('message: ')\n",
    "key = input('key: ')\n",
    "message = re.sub(r' ', '', message.lower())\n",
    "key = re.sub(r' ', '', key.lower())\n",
    "\n",
    "\n",
    "cipher = Enc(Initialization(message),key)\n",
    "\n",
    "text = Dec(Initialization(cipher), key)\n",
    "\n",
    "print('Ciphertext: ', cipher)\n",
    "print('Plaintext: ', text)"
   ]
  },
  {
   "cell_type": "markdown",
   "metadata": {},
   "source": [
    "## 2. Як змiнюється криптотекст, якщо у початковому вiдкритому текстi змiнити один бiт?\n"
   ]
  },
  {
   "cell_type": "code",
   "execution_count": 17,
   "metadata": {},
   "outputs": [],
   "source": [
    "# def InitializationWithChange(text):\n",
    "#     tm = [0x00 for i in range(16)] \n",
    "#     input_bytes = list(text)\n",
    "#     for i in range(len(input_bytes)):\n",
    "#         tm[i] = int(text_to_bits(input_bytes[i]),2)\n",
    "#     tm[0] = tm[0] ^ 1\n",
    "#     input_bytes = tm\n",
    "# \n",
    "#     state = [[] for j in range(4)]\n",
    "#     for i in range(4):\n",
    "#         for j in range(4):\n",
    "#             state[i].append(input_bytes[i + 4*j]) \n",
    "    \n",
    "#     return state\n",
    "\n",
    "\n",
    "# message = input('message: ')\n",
    "# key = input('key: ')\n",
    "\n",
    "# cipher = Enc(Initialization(message),key)\n",
    "# cipher1 = Enc(InitializationWithChange(message),key)\n",
    "\n",
    "\n",
    "# print('Ciphertext without changes: ', cipher)\n",
    "# print('Ciphertext with changes: ', cipher1)"
   ]
  },
  {
   "cell_type": "markdown",
   "metadata": {},
   "source": [
    "## 3. Реалiзуйте потоковi режими CBC та CTR криптосистеми AES-128."
   ]
  },
  {
   "cell_type": "code",
   "execution_count": null,
   "metadata": {},
   "outputs": [],
   "source": []
  },
  {
   "cell_type": "markdown",
   "metadata": {},
   "source": [
    "# Лабороторна робота №4\n",
    "\n",
    "## 1. Реалiзуйте тест простоти Мiллера-Рабiна."
   ]
  },
  {
   "cell_type": "code",
   "execution_count": 2,
   "metadata": {},
   "outputs": [
    {
     "name": "stdout",
     "output_type": "stream",
     "text": [
      "True\n"
     ]
    }
   ],
   "source": [
    "import random, math\n",
    "\n",
    "def MillerRabinTest(n):\n",
    "    rnd = int(math.log2(n))\n",
    "    if n == 2 or n == 3:\n",
    "        return True \n",
    "    if n%2==0:\n",
    "        return False\n",
    "    tmp = n-1\n",
    "    s = 0\n",
    "    while tmp%2==0:\n",
    "        tmp /= 2\n",
    "        s += 1\n",
    "    t = (n-1)/2**s\n",
    "    for i in range(rnd):\n",
    "        a = random.randint(2, n-2)\n",
    "        x = (a**t)%n\n",
    "        if  x != 1 or x != n-1:\n",
    "            j = 0\n",
    "            while j<s and x != n-1:\n",
    "                x = (x**2)%n\n",
    "                if x==1: return False\n",
    "                j += 1\n",
    "            if x != n-1: return False\n",
    "    return True \n",
    "    \n",
    "print(MillerRabinTest(17))"
   ]
  },
  {
   "cell_type": "markdown",
   "metadata": {},
   "source": [
    "## 2. Реалiзуйте алгоритм iнiцiалiзацiї RSA."
   ]
  },
  {
   "cell_type": "code",
   "execution_count": 12,
   "metadata": {},
   "outputs": [
    {
     "name": "stdout",
     "output_type": "stream",
     "text": [
      "Public key:  319\n",
      "Public parameter:  1261\n",
      "Secret key:  1087\n"
     ]
    }
   ],
   "source": [
    "def GCD(a,b):\n",
    "    while a != 0 and b != 0:\n",
    "        if a > b:\n",
    "            a %= b\n",
    "        else:\n",
    "            b %= a\n",
    "    gcd = a + b\n",
    "    return gcd\n",
    "\n",
    "p = 4\n",
    "q = 4\n",
    "while not(MillerRabinTest(p)):\n",
    "    p = random.randint(2, 100)\n",
    "while not(MillerRabinTest(q)):\n",
    "    q = random.randint(2, 100)\n",
    "n = p*q\n",
    "Euler = (p-1)*(q-1)\n",
    "e = random.randint(1, Euler)\n",
    "while GCD(e, Euler) != 1:\n",
    "    e = random.randint(1, Euler)\n",
    "# d = (e**(-1))%Euler\n",
    "d = 0\n",
    "while d*e%Euler != 1:\n",
    "    d = random.randint(1, Euler)\n",
    "\n",
    "print('Public key: ', e)\n",
    "print('Public parameter: ', n)\n",
    "print('Secret key: ', d)"
   ]
  },
  {
   "cell_type": "markdown",
   "metadata": {},
   "source": [
    "## 3. Реалiзуйте алгоритм шифрування RSA."
   ]
  },
  {
   "cell_type": "code",
   "execution_count": 15,
   "metadata": {},
   "outputs": [
    {
     "name": "stdout",
     "output_type": "stream",
     "text": [
      "Plaintext:  1054\n",
      "Ciphertext:  833\n"
     ]
    }
   ],
   "source": [
    "m = random.randint(0,n)\n",
    "while GCD(m, n) != 1:\n",
    "    m = random.randint(0,n)\n",
    "c = m**e%n\n",
    "\n",
    "print('Plaintext: ',m)\n",
    "print('Ciphertext: ',c) "
   ]
  },
  {
   "cell_type": "markdown",
   "metadata": {},
   "source": [
    "## 4. Реалiзуйте алгоритм дешифрування RSA."
   ]
  },
  {
   "cell_type": "code",
   "execution_count": 18,
   "metadata": {},
   "outputs": [
    {
     "name": "stdout",
     "output_type": "stream",
     "text": [
      "Ciphertext:  833\n",
      "Plaintext:  1054\n"
     ]
    }
   ],
   "source": [
    "dec = c**d%n\n",
    "print('Ciphertext: ',c) \n",
    "print('Plaintext: ',dec)"
   ]
  },
  {
   "cell_type": "code",
   "execution_count": null,
   "metadata": {},
   "outputs": [],
   "source": []
  }
 ],
 "metadata": {
  "kernelspec": {
   "display_name": "Python 3",
   "language": "python",
   "name": "python3"
  },
  "language_info": {
   "codemirror_mode": {
    "name": "ipython",
    "version": 3
   },
   "file_extension": ".py",
   "mimetype": "text/x-python",
   "name": "python",
   "nbconvert_exporter": "python",
   "pygments_lexer": "ipython3",
   "version": "3.7.1"
  }
 },
 "nbformat": 4,
 "nbformat_minor": 2
}
